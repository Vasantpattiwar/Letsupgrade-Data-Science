{
  "nbformat": 4,
  "nbformat_minor": 0,
  "metadata": {
    "colab": {
      "name": "Day-3",
      "provenance": [],
      "collapsed_sections": [],
      "authorship_tag": "ABX9TyN9juL84HMz+i3hPQgV377v",
      "include_colab_link": true
    },
    "kernelspec": {
      "name": "python3",
      "display_name": "Python 3"
    }
  },
  "cells": [
    {
      "cell_type": "markdown",
      "metadata": {
        "id": "view-in-github",
        "colab_type": "text"
      },
      "source": [
        "<a href=\"https://colab.research.google.com/github/Vasantpattiwar/Letsupgrade-Data-Science/blob/main/Day_3.ipynb\" target=\"_parent\"><img src=\"https://colab.research.google.com/assets/colab-badge.svg\" alt=\"Open In Colab\"/></a>"
      ]
    },
    {
      "cell_type": "code",
      "metadata": {
        "id": "gDEux1SvqBQJ",
        "outputId": "fac80cc3-3b68-47c0-92ce-217f706a88b0",
        "colab": {
          "base_uri": "https://localhost:8080/"
        }
      },
      "source": [
        "#Q1\n",
        "import numpy as np \n",
        "print(np.arange(2, 50, 3))"
      ],
      "execution_count": null,
      "outputs": [
        {
          "output_type": "stream",
          "text": [
            "[ 2  5  8 11 14 17 20 23 26 29 32 35 38 41 44 47]\n"
          ],
          "name": "stdout"
        }
      ]
    },
    {
      "cell_type": "code",
      "metadata": {
        "id": "A3qTb6MtqG6n",
        "outputId": "29c558a1-bdb8-447f-facc-53fdb1838b70",
        "colab": {
          "base_uri": "https://localhost:8080/"
        }
      },
      "source": [
        "#Q2\n",
        "import numpy as np\n",
        "lst1 = [] \n",
        "lst2=[]  \n",
        "n = 5\n",
        "for i in range(0, n): \n",
        "    ele = int(input()) \n",
        "    lst1.append(ele) \n",
        "print(\"List1 : \",lst1)\n",
        "\n",
        "for j in range(0, n): \n",
        "    ele2 = int(input())   \n",
        "    lst2.append(ele2) \n",
        "print(\"List2 : \",lst2)\n",
        "\n",
        "\n",
        "import numpy \n",
        "\n",
        "arr = numpy.array(lst1)\n",
        "\n",
        "print (\"List1: \", lst1)\n",
        "\n",
        "print (\"Array: \", arr)\n",
        "\n",
        "Array = numpy.array(lst2)\n",
        "\n",
        "print (\"List1: \", lst2)\n",
        "\n",
        "print (\"Array: \", Array)\n",
        "arr=np.array(lst1)\n",
        "Array=np.array(lst2)\n",
        "print(\"Concatenated array\")\n",
        "print(np.concatenate((arr, Array), axis=None))\n",
        "\n",
        "print(\"Sorted array of lst1\")\n",
        "lst1.sort()\n",
        "print(lst1)\n",
        "print(\"Sorted array of lst2\")\n",
        "lst2.sort()\n",
        "print(lst2)"
      ],
      "execution_count": null,
      "outputs": [
        {
          "output_type": "stream",
          "text": [
            "87\n",
            "45\n",
            "8\n",
            "99\n",
            "100\n",
            "List1 :  [87, 45, 8, 99, 100]\n",
            "47\n",
            "35\n",
            "11\n",
            "05\n",
            "2\n",
            "List2 :  [47, 35, 11, 5, 2]\n",
            "List1:  [87, 45, 8, 99, 100]\n",
            "Array:  [ 87  45   8  99 100]\n",
            "List1:  [47, 35, 11, 5, 2]\n",
            "Array:  [47 35 11  5  2]\n",
            "Concatenated array\n",
            "[ 87  45   8  99 100  47  35  11   5   2]\n",
            "Sorted array of lst1\n",
            "[8, 45, 87, 99, 100]\n",
            "Sorted array of lst2\n",
            "[2, 5, 11, 35, 47]\n"
          ],
          "name": "stdout"
        }
      ]
    },
    {
      "cell_type": "code",
      "metadata": {
        "id": "Pse3imBWqGvv",
        "outputId": "c68bd2dd-d3fa-4149-c891-ad96a4a92768",
        "colab": {
          "base_uri": "https://localhost:8080/"
        }
      },
      "source": [
        "#Q3\n",
        "import numpy as np\n",
        "arr = np.array( [[ 1, 2, 3],\n",
        "                 [ 4, 2, 5]] )\n",
        "print(\"No. of dimensions: \", arr.ndim)\n",
        "print(\"Size of array: \", arr.size)"
      ],
      "execution_count": null,
      "outputs": [
        {
          "output_type": "stream",
          "text": [
            "No. of dimensions:  2\n",
            "Size of array:  6\n"
          ],
          "name": "stdout"
        }
      ]
    },
    {
      "cell_type": "code",
      "metadata": {
        "id": "POmrbH7TqGkY",
        "outputId": "79fe0003-f3d7-49dc-c439-ba1855fde979",
        "colab": {
          "base_uri": "https://localhost:8080/"
        }
      },
      "source": [
        "#Q4\n",
        ">>> a = np.array([1, 2, 3, 4, 5, 6])\n",
        ">>> a.shape\n",
        "(6,)\n",
        ">>> a2 = a[np.newaxis, :]\n",
        ">>> a2.shape\n",
        "(1, 6)\n",
        "print(a)\n",
        ">>> a = np.array([1, 2, 3, 4, 5, 6])\n",
        ">>> a.shape\n",
        "(6,)\n",
        ">>> b = np.expand_dims(a, axis=1)\n",
        ">>> b.shape\n",
        "(6, 1)\n",
        "print(b)"
      ],
      "execution_count": null,
      "outputs": [
        {
          "output_type": "stream",
          "text": [
            "[1 2 3 4 5 6]\n",
            "[[1]\n",
            " [2]\n",
            " [3]\n",
            " [4]\n",
            " [5]\n",
            " [6]]\n"
          ],
          "name": "stdout"
        }
      ]
    },
    {
      "cell_type": "code",
      "metadata": {
        "id": "06LQaUQWqGYv",
        "outputId": "7c3f44d4-48d0-4cc9-f126-ac434bf8f0b1",
        "colab": {
          "base_uri": "https://localhost:8080/"
        }
      },
      "source": [
        "#Q5\n",
        "import numpy as np \n",
        "  \n",
        "a = np.array([[1, 2], \n",
        "              [3, 4]]) \n",
        "  \n",
        "b = np.array([[5, 6], \n",
        "              [7, 8]]) \n",
        "  \n",
        "# vertical stacking \n",
        "print(\"Vertical stacking:\\n\", np.vstack((a, b))) \n",
        "  \n",
        "# horizontal stacking \n",
        "print(\"\\nHorizontal stacking:\\n\", np.hstack((a, b)))"
      ],
      "execution_count": null,
      "outputs": [
        {
          "output_type": "stream",
          "text": [
            "Vertical stacking:\n",
            " [[1 2]\n",
            " [3 4]\n",
            " [5 6]\n",
            " [7 8]]\n",
            "\n",
            "Horizontal stacking:\n",
            " [[1 2 5 6]\n",
            " [3 4 7 8]]\n"
          ],
          "name": "stdout"
        }
      ]
    },
    {
      "cell_type": "code",
      "metadata": {
        "id": "IR08iJx1qGLK",
        "outputId": "3b6cf14a-a0da-43bd-bdbd-10acb0db64bf",
        "colab": {
          "base_uri": "https://localhost:8080/"
        }
      },
      "source": [
        "#Q6\n",
        "input_list = [1, 2, 2, 5, 8, 4, 4, 8] \n",
        "l1 = []  \n",
        "count = 0 \n",
        "for item in input_list: \n",
        "    if item not in l1: \n",
        "        count += 1\n",
        "        l1.append(item)\n",
        "print(\"No of unique items are:\", count)\n",
        "\n",
        "def unique(input_list): \n",
        "    list_set = set(input_list) \n",
        "    unique_list = list(list_set) \n",
        "    for x in unique_list: \n",
        "        print (x)\n",
        "print(\"Unique items are:\")\n",
        "unique(input_list)"
      ],
      "execution_count": null,
      "outputs": [
        {
          "output_type": "stream",
          "text": [
            "No of unique items are: 5\n",
            "Unique items are:\n",
            "1\n",
            "2\n",
            "4\n",
            "5\n",
            "8\n"
          ],
          "name": "stdout"
        }
      ]
    }
  ]
}