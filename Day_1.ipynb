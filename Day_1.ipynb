{
  "nbformat": 4,
  "nbformat_minor": 0,
  "metadata": {
    "colab": {
      "name": "Day-1",
      "provenance": [],
      "collapsed_sections": [],
      "authorship_tag": "ABX9TyMMrivRgefo+daXs8nd2OsO",
      "include_colab_link": true
    },
    "kernelspec": {
      "name": "python3",
      "display_name": "Python 3"
    }
  },
  "cells": [
    {
      "cell_type": "markdown",
      "metadata": {
        "id": "view-in-github",
        "colab_type": "text"
      },
      "source": [
        "<a href=\"https://colab.research.google.com/github/Vasantpattiwar/Letsupgrade-Data-Science/blob/main/Day_1.ipynb\" target=\"_parent\"><img src=\"https://colab.research.google.com/assets/colab-badge.svg\" alt=\"Open In Colab\"/></a>"
      ]
    },
    {
      "cell_type": "code",
      "metadata": {
        "id": "wpOHjJ5Zo53n"
      },
      "source": [
        "#Q1\n",
        "B)RAINBOW"
      ],
      "execution_count": null,
      "outputs": []
    },
    {
      "cell_type": "code",
      "metadata": {
        "id": "LuqHbK-ipGMQ",
        "outputId": "10a9f5da-e116-4d1a-9a83-bd72605e8f55",
        "colab": {
          "base_uri": "https://localhost:8080/"
        }
      },
      "source": [
        "#Q2\n",
        "a=\"LETSUPGRADE\"\n",
        "print(a)"
      ],
      "execution_count": null,
      "outputs": [
        {
          "output_type": "stream",
          "text": [
            "LETSUPGRADE\n"
          ],
          "name": "stdout"
        }
      ]
    },
    {
      "cell_type": "code",
      "metadata": {
        "id": "9BD4PusIpF6m",
        "outputId": "53a42185-fcdf-4a95-b2fb-e3a7c10af65d",
        "colab": {
          "base_uri": "https://localhost:8080/"
        }
      },
      "source": [
        "#Q3\n",
        "CP=float(input())\n",
        "SP=float(input())\n",
        "if SP-CP>0:\n",
        "  print(\"Profit\")\n",
        "elif SP-CP<0:\n",
        "  print(\"Loss\")\n",
        "else:\n",
        "  print(\"Neither\")"
      ],
      "execution_count": null,
      "outputs": [
        {
          "output_type": "stream",
          "text": [
            "560\n",
            "450\n",
            "Loss\n"
          ],
          "name": "stdout"
        }
      ]
    },
    {
      "cell_type": "code",
      "metadata": {
        "id": "BLYH8AKppFuI",
        "outputId": "13820975-f9ad-46c8-d8ba-386bee882c01",
        "colab": {
          "base_uri": "https://localhost:8080/"
        }
      },
      "source": [
        "#Q4\n",
        "Amt_in_euro=input()\n",
        "Amt_in_Rupees=int(Amt_in_euro)*80\n",
        "print(Amt_in_Rupees)"
      ],
      "execution_count": null,
      "outputs": [
        {
          "output_type": "stream",
          "text": [
            "50\n",
            "4000\n"
          ],
          "name": "stdout"
        }
      ]
    }
  ]
}