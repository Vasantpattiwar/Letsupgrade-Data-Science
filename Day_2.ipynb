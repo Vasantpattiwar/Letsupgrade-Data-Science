{
  "nbformat": 4,
  "nbformat_minor": 0,
  "metadata": {
    "colab": {
      "name": "Day-2",
      "provenance": [],
      "collapsed_sections": [],
      "authorship_tag": "ABX9TyOoO9qTwYpQBG1i9uR0UGLJ",
      "include_colab_link": true
    },
    "kernelspec": {
      "name": "python3",
      "display_name": "Python 3"
    }
  },
  "cells": [
    {
      "cell_type": "markdown",
      "metadata": {
        "id": "view-in-github",
        "colab_type": "text"
      },
      "source": [
        "<a href=\"https://colab.research.google.com/github/Vasantpattiwar/Letsupgrade-Data-Science/blob/main/Day_2.ipynb\" target=\"_parent\"><img src=\"https://colab.research.google.com/assets/colab-badge.svg\" alt=\"Open In Colab\"/></a>"
      ]
    },
    {
      "cell_type": "code",
      "metadata": {
        "id": "HdiEhUCOpVlQ",
        "outputId": "b332e476-fcec-4e01-90f8-f3e96e0cc5f6",
        "colab": {
          "base_uri": "https://localhost:8080/"
        }
      },
      "source": [
        "#Q1\n",
        "list = []\n",
        "for i in range(10):\n",
        "\tnumber = int(input())\n",
        "\tif number%2==0:\n",
        "\t\tlist.append(number)\n",
        "print(list)"
      ],
      "execution_count": null,
      "outputs": [
        {
          "output_type": "stream",
          "text": [
            "6\n",
            "56\n",
            "43\n",
            "6\n",
            "12\n",
            "34\n",
            "89\n",
            "76\n",
            "44\n",
            "321\n",
            "[6, 56, 6, 12, 34, 76, 44]\n"
          ],
          "name": "stdout"
        }
      ]
    },
    {
      "cell_type": "code",
      "metadata": {
        "id": "W1cRZ4inpdFX",
        "outputId": "25f2c37d-d087-44f0-b9b9-494e892dde61",
        "colab": {
          "base_uri": "https://localhost:8080/"
        }
      },
      "source": [
        "#Q2\n",
        "\"List comprehensions are a way of achieving Pythonic one-liners with iterables(lists)\"\n",
        "#Example1\n",
        "input_list = [1, 2, 3, 4, 4, 5, 6, 7, 7] \n",
        "  \n",
        "output_list = [] \n",
        "  \n",
        "# Using loop for constructing output list \n",
        "for var in input_list: \n",
        "    if var % 2 == 0: \n",
        "        output_list.append(var) \n",
        "  \n",
        "print(\"Output List using for loop:\", output_list)\n",
        "#Using list comprehension\n",
        "input_list = [1, 2, 3, 4, 4, 5, 6, 7, 7] \n",
        "  \n",
        "  \n",
        "list_using_comp = [var for var in input_list if var % 2 == 0] \n",
        "  \n",
        "print(\"Output List using list comprehensions:\", list_using_comp)\n",
        "\n",
        "\n",
        "#Example2\n",
        "#Using for loop\n",
        "output_list = [] \n",
        "for var in range(1, 10): \n",
        "    output_list.append(var ** 2) \n",
        "      \n",
        "print(\"Output List using for loop:\", output_list)\n",
        "#Using list comprehension\n",
        "list_using_comp = [var**2 for var in range(1, 10)] \n",
        "  \n",
        "print(\"Output List using list comprehension:\",list_using_comp)"
      ],
      "execution_count": null,
      "outputs": [
        {
          "output_type": "stream",
          "text": [
            "Output List using for loop: [2, 4, 4, 6]\n",
            "Output List using list comprehensions: [2, 4, 4, 6]\n",
            "Output List using for loop: [1, 4, 9, 16, 25, 36, 49, 64, 81]\n",
            "Output List using list comprehension: [1, 4, 9, 16, 25, 36, 49, 64, 81]\n"
          ],
          "name": "stdout"
        }
      ]
    },
    {
      "cell_type": "code",
      "metadata": {
        "id": "boFHvkQ-pc8_",
        "outputId": "96b4595c-8a79-4081-d776-363b5545b001",
        "colab": {
          "base_uri": "https://localhost:8080/"
        }
      },
      "source": [
        "#Q3\n",
        "num=int(input())\n",
        "d=dict()\n",
        "for x in range(1,num+1):\n",
        "    d[x]=x**2\n",
        "print(d)"
      ],
      "execution_count": null,
      "outputs": [
        {
          "output_type": "stream",
          "text": [
            "6\n",
            "{1: 1, 2: 4, 3: 9, 4: 16, 5: 25, 6: 36}\n"
          ],
          "name": "stdout"
        }
      ]
    },
    {
      "cell_type": "code",
      "metadata": {
        "id": "_Fsw_Dbhpc2Q",
        "outputId": "72999ccf-67ee-4dec-d8b1-8e45cb0e084d",
        "colab": {
          "base_uri": "https://localhost:8080/"
        }
      },
      "source": [
        "#Q4\n",
        "x=0\n",
        "y=0\n",
        "n = int(input())\n",
        "\n",
        "for i in range(n):\n",
        "    direction = input().split(' ')  \n",
        "    \n",
        "    if direction[0].upper() == \"UP\":\n",
        "        y += int(direction[1])\n",
        "    elif direction[0].upper() == \"RIGHT\":\n",
        "        x += int(direction[1])\n",
        "    elif direction[0].upper() == \"DOWN\":\n",
        "        y -= int(direction[1])\n",
        "    elif direction[0].upper() == \"LEFT\":\n",
        "        x -= int(direction[1])\n",
        "    else:\n",
        "        print(\"Invalid Input\")    \n",
        "pos = float((x**2+y**2)**0.5)\n",
        "print(round(pos))"
      ],
      "execution_count": null,
      "outputs": [
        {
          "output_type": "stream",
          "text": [
            "4\n",
            "UP 10\n",
            "DOWN 5\n",
            "LEFT 7\n",
            "RIGHT 3\n",
            "6\n"
          ],
          "name": "stdout"
        }
      ]
    }
  ]
}